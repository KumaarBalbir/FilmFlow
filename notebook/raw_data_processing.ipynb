{
 "cells": [
  {
   "cell_type": "code",
   "execution_count": 2,
   "metadata": {},
   "outputs": [
    {
     "name": "stdout",
     "output_type": "stream",
     "text": [
      "Python version: 3.8.0 | packaged by conda-forge | (default, Nov 22 2019, 19:04:36) [MSC v.1916 64 bit (AMD64)]\n",
      "Executable: c:\\development_projects\\FilmFlow\\venv\\python.exe\n",
      "Platform: Windows-10-10.0.22621-SP0\n"
     ]
    }
   ],
   "source": [
    "import sys\n",
    "import platform\n",
    "import pandas as pd \n",
    "import numpy as np \n",
    "\n",
    "print(\"Python version:\", sys.version)\n",
    "print(\"Executable:\", sys.executable)\n",
    "print(\"Platform:\", platform.platform())\n"
   ]
  },
  {
   "cell_type": "markdown",
   "metadata": {},
   "source": [
    "**Read data**"
   ]
  },
  {
   "cell_type": "code",
   "execution_count": 3,
   "metadata": {},
   "outputs": [
    {
     "name": "stderr",
     "output_type": "stream",
     "text": [
      "C:\\Users\\prasa\\AppData\\Local\\Temp\\ipykernel_20948\\4206685961.py:2: DtypeWarning: Columns (10) have mixed types. Specify dtype option on import or set low_memory=False.\n",
      "  df2 = pd.read_csv(\"../data/movies_metadata.csv\")\n"
     ]
    }
   ],
   "source": [
    "df1 = pd.read_csv(\"../data/movie_metadata.csv\")\n",
    "df2 = pd.read_csv(\"../data/movies_metadata.csv\")\n",
    "df3 = pd.read_csv(\"../data/credits.csv\")\n"
   ]
  },
  {
   "cell_type": "markdown",
   "metadata": {},
   "source": [
    "**Read Wiki data 2018-2023**"
   ]
  },
  {
   "cell_type": "code",
   "execution_count": 4,
   "metadata": {},
   "outputs": [],
   "source": [
    "link18 = \"https://en.wikipedia.org/wiki/List_of_American_films_of_2018\"\n",
    "link19 = \"https://en.wikipedia.org/wiki/List_of_American_films_of_2019\"\n",
    "link20 = \"https://en.wikipedia.org/wiki/List_of_American_films_of_2020\"\n",
    "link21 = \"https://en.wikipedia.org/wiki/List_of_American_films_of_2021\"\n",
    "link22 = \"https://en.wikipedia.org/wiki/List_of_American_films_of_2022\"\n",
    "link23 = \"https://en.wikipedia.org/wiki/List_of_American_films_of_2023\"\n",
    "\n",
    "# Read the tables\n",
    "tables18 = pd.read_html(link18, header=0) #year 2018\n",
    "tables19 = pd.read_html(link19, header=0) #year 2019\n",
    "tables20 = pd.read_html(link20, header=0) #year 2020\n",
    "tables21 = pd.read_html(link21, header=0) #year 2021\n",
    "tables22 = pd.read_html(link22, header=0) #year 2022\n",
    "tables23 = pd.read_html(link23, header=0) #year 2023"
   ]
  },
  {
   "cell_type": "code",
   "execution_count": 5,
   "metadata": {},
   "outputs": [
    {
     "name": "stdout",
     "output_type": "stream",
     "text": [
      "13 13 13 13 13 13\n"
     ]
    }
   ],
   "source": [
    "print(len(tables18),len(tables19),len(tables20),len(tables21),len(tables22),len(tables23))"
   ]
  },
  {
   "cell_type": "code",
   "execution_count": 6,
   "metadata": {},
   "outputs": [],
   "source": [
    "def get_wiki_df(tables):\n",
    "  if len(tables)>=6:\n",
    "    # Perform the append operations\n",
    "    df1, df2, df3, df4 = tables[2:6]\n",
    "    df = pd.concat([df1, df2, df3, df4], ignore_index=True)\n",
    "  else:\n",
    "    # Handle the case where tables are not available\n",
    "    df = pd.DataFrame() \n",
    "  return df\n",
    "    "
   ]
  },
  {
   "cell_type": "code",
   "execution_count": 7,
   "metadata": {},
   "outputs": [],
   "source": [
    "df18 = get_wiki_df(tables18)\n",
    "df19 = get_wiki_df(tables19)\n",
    "df20 = get_wiki_df(tables20)\n",
    "df21 = get_wiki_df(tables21)\n",
    "df22 = get_wiki_df(tables22)\n",
    "df23 = get_wiki_df(tables23)"
   ]
  },
  {
   "cell_type": "markdown",
   "metadata": {},
   "source": [
    "**Work on df1**"
   ]
  },
  {
   "cell_type": "code",
   "execution_count": 8,
   "metadata": {},
   "outputs": [
    {
     "data": {
      "text/plain": [
       "Index(['color', 'director_name', 'num_critic_for_reviews', 'duration',\n",
       "       'director_facebook_likes', 'actor_3_facebook_likes', 'actor_2_name',\n",
       "       'actor_1_facebook_likes', 'gross', 'genres', 'actor_1_name',\n",
       "       'movie_title', 'num_voted_users', 'cast_total_facebook_likes',\n",
       "       'actor_3_name', 'facenumber_in_poster', 'plot_keywords',\n",
       "       'movie_imdb_link', 'num_user_for_reviews', 'language', 'country',\n",
       "       'content_rating', 'budget', 'title_year', 'actor_2_facebook_likes',\n",
       "       'imdb_score', 'aspect_ratio', 'movie_facebook_likes'],\n",
       "      dtype='object')"
      ]
     },
     "execution_count": 8,
     "metadata": {},
     "output_type": "execute_result"
    }
   ],
   "source": [
    "df1.columns"
   ]
  },
  {
   "cell_type": "markdown",
   "metadata": {},
   "source": [
    "We will work with actors and director name, genres and movie title."
   ]
  },
  {
   "cell_type": "code",
   "execution_count": 9,
   "metadata": {},
   "outputs": [],
   "source": [
    "df1 = df1.loc[:,['movie_title','genres','director_name','actor_1_name','actor_2_name','actor_3_name']]"
   ]
  },
  {
   "cell_type": "markdown",
   "metadata": {},
   "source": [
    "genres are separated via '|', replace it with \" \""
   ]
  },
  {
   "cell_type": "code",
   "execution_count": 10,
   "metadata": {},
   "outputs": [],
   "source": [
    "df1['genres'] = df1['genres'].str.replace('|', ' ')"
   ]
  },
  {
   "cell_type": "markdown",
   "metadata": {},
   "source": [
    "**Lets work on df2**"
   ]
  },
  {
   "cell_type": "code",
   "execution_count": 11,
   "metadata": {},
   "outputs": [
    {
     "data": {
      "text/plain": [
       "Index(['adult', 'belongs_to_collection', 'budget', 'genres', 'homepage', 'id',\n",
       "       'imdb_id', 'original_language', 'original_title', 'overview',\n",
       "       'popularity', 'poster_path', 'production_companies',\n",
       "       'production_countries', 'release_date', 'revenue', 'runtime',\n",
       "       'spoken_languages', 'status', 'tagline', 'title', 'video',\n",
       "       'vote_average', 'vote_count'],\n",
       "      dtype='object')"
      ]
     },
     "execution_count": 11,
     "metadata": {},
     "output_type": "execute_result"
    }
   ],
   "source": [
    "df2.columns"
   ]
  },
  {
   "cell_type": "code",
   "execution_count": 12,
   "metadata": {},
   "outputs": [],
   "source": [
    "df2 = df2.loc[:,['id','genres','title']]"
   ]
  },
  {
   "cell_type": "markdown",
   "metadata": {},
   "source": [
    "id column in df2 contains some noise data."
   ]
  },
  {
   "cell_type": "code",
   "execution_count": 13,
   "metadata": {},
   "outputs": [
    {
     "name": "stdout",
     "output_type": "stream",
     "text": [
      "True\n"
     ]
    }
   ],
   "source": [
    "is_present = '1997-08-20' in df2['id'].values \n",
    "print(is_present)"
   ]
  },
  {
   "cell_type": "markdown",
   "metadata": {},
   "source": [
    "Remove rows where id format is not proper"
   ]
  },
  {
   "cell_type": "code",
   "execution_count": 14,
   "metadata": {},
   "outputs": [],
   "source": [
    "# convert non-convertible id values to NaN\n",
    "df2['id'] = pd.to_numeric(df2['id'], errors='coerce')\n",
    "\n",
    "# Drop rows where 'id' is NaN (i.e., not convertible to int)\n",
    "df2 = df2.dropna(subset=['id']) \n",
    "\n",
    "# convert id into int\n",
    "df2['id'] = df2['id'].astype('int64')"
   ]
  },
  {
   "cell_type": "markdown",
   "metadata": {},
   "source": [
    "**Work on df3**"
   ]
  },
  {
   "cell_type": "code",
   "execution_count": 15,
   "metadata": {},
   "outputs": [
    {
     "name": "stdout",
     "output_type": "stream",
     "text": [
      "<class 'pandas.core.frame.DataFrame'>\n",
      "RangeIndex: 45476 entries, 0 to 45475\n",
      "Data columns (total 3 columns):\n",
      " #   Column  Non-Null Count  Dtype \n",
      "---  ------  --------------  ----- \n",
      " 0   cast    45476 non-null  object\n",
      " 1   crew    45476 non-null  object\n",
      " 2   id      45476 non-null  int64 \n",
      "dtypes: int64(1), object(2)\n",
      "memory usage: 1.0+ MB\n"
     ]
    }
   ],
   "source": [
    "df3.info()"
   ]
  },
  {
   "cell_type": "markdown",
   "metadata": {},
   "source": [
    "**Combine df2 and df3**"
   ]
  },
  {
   "cell_type": "code",
   "execution_count": 16,
   "metadata": {},
   "outputs": [],
   "source": [
    "merged_df = pd.merge(df2, df3, on='id', how='inner')"
   ]
  },
  {
   "cell_type": "code",
   "execution_count": 17,
   "metadata": {},
   "outputs": [
    {
     "data": {
      "text/html": [
       "<div>\n",
       "<style scoped>\n",
       "    .dataframe tbody tr th:only-of-type {\n",
       "        vertical-align: middle;\n",
       "    }\n",
       "\n",
       "    .dataframe tbody tr th {\n",
       "        vertical-align: top;\n",
       "    }\n",
       "\n",
       "    .dataframe thead th {\n",
       "        text-align: right;\n",
       "    }\n",
       "</style>\n",
       "<table border=\"1\" class=\"dataframe\">\n",
       "  <thead>\n",
       "    <tr style=\"text-align: right;\">\n",
       "      <th></th>\n",
       "      <th>id</th>\n",
       "      <th>genres</th>\n",
       "      <th>title</th>\n",
       "      <th>cast</th>\n",
       "      <th>crew</th>\n",
       "    </tr>\n",
       "  </thead>\n",
       "  <tbody>\n",
       "    <tr>\n",
       "      <th>0</th>\n",
       "      <td>862</td>\n",
       "      <td>[{'id': 16, 'name': 'Animation'}, {'id': 35, '...</td>\n",
       "      <td>Toy Story</td>\n",
       "      <td>[{'cast_id': 14, 'character': 'Woody (voice)',...</td>\n",
       "      <td>[{'credit_id': '52fe4284c3a36847f8024f49', 'de...</td>\n",
       "    </tr>\n",
       "    <tr>\n",
       "      <th>1</th>\n",
       "      <td>8844</td>\n",
       "      <td>[{'id': 12, 'name': 'Adventure'}, {'id': 14, '...</td>\n",
       "      <td>Jumanji</td>\n",
       "      <td>[{'cast_id': 1, 'character': 'Alan Parrish', '...</td>\n",
       "      <td>[{'credit_id': '52fe44bfc3a36847f80a7cd1', 'de...</td>\n",
       "    </tr>\n",
       "    <tr>\n",
       "      <th>2</th>\n",
       "      <td>15602</td>\n",
       "      <td>[{'id': 10749, 'name': 'Romance'}, {'id': 35, ...</td>\n",
       "      <td>Grumpier Old Men</td>\n",
       "      <td>[{'cast_id': 2, 'character': 'Max Goldman', 'c...</td>\n",
       "      <td>[{'credit_id': '52fe466a9251416c75077a89', 'de...</td>\n",
       "    </tr>\n",
       "    <tr>\n",
       "      <th>3</th>\n",
       "      <td>31357</td>\n",
       "      <td>[{'id': 35, 'name': 'Comedy'}, {'id': 18, 'nam...</td>\n",
       "      <td>Waiting to Exhale</td>\n",
       "      <td>[{'cast_id': 1, 'character': \"Savannah 'Vannah...</td>\n",
       "      <td>[{'credit_id': '52fe44779251416c91011acb', 'de...</td>\n",
       "    </tr>\n",
       "    <tr>\n",
       "      <th>4</th>\n",
       "      <td>11862</td>\n",
       "      <td>[{'id': 35, 'name': 'Comedy'}]</td>\n",
       "      <td>Father of the Bride Part II</td>\n",
       "      <td>[{'cast_id': 1, 'character': 'George Banks', '...</td>\n",
       "      <td>[{'credit_id': '52fe44959251416c75039ed7', 'de...</td>\n",
       "    </tr>\n",
       "  </tbody>\n",
       "</table>\n",
       "</div>"
      ],
      "text/plain": [
       "      id                                             genres  \\\n",
       "0    862  [{'id': 16, 'name': 'Animation'}, {'id': 35, '...   \n",
       "1   8844  [{'id': 12, 'name': 'Adventure'}, {'id': 14, '...   \n",
       "2  15602  [{'id': 10749, 'name': 'Romance'}, {'id': 35, ...   \n",
       "3  31357  [{'id': 35, 'name': 'Comedy'}, {'id': 18, 'nam...   \n",
       "4  11862                     [{'id': 35, 'name': 'Comedy'}]   \n",
       "\n",
       "                         title  \\\n",
       "0                    Toy Story   \n",
       "1                      Jumanji   \n",
       "2             Grumpier Old Men   \n",
       "3            Waiting to Exhale   \n",
       "4  Father of the Bride Part II   \n",
       "\n",
       "                                                cast  \\\n",
       "0  [{'cast_id': 14, 'character': 'Woody (voice)',...   \n",
       "1  [{'cast_id': 1, 'character': 'Alan Parrish', '...   \n",
       "2  [{'cast_id': 2, 'character': 'Max Goldman', 'c...   \n",
       "3  [{'cast_id': 1, 'character': \"Savannah 'Vannah...   \n",
       "4  [{'cast_id': 1, 'character': 'George Banks', '...   \n",
       "\n",
       "                                                crew  \n",
       "0  [{'credit_id': '52fe4284c3a36847f8024f49', 'de...  \n",
       "1  [{'credit_id': '52fe44bfc3a36847f80a7cd1', 'de...  \n",
       "2  [{'credit_id': '52fe466a9251416c75077a89', 'de...  \n",
       "3  [{'credit_id': '52fe44779251416c91011acb', 'de...  \n",
       "4  [{'credit_id': '52fe44959251416c75039ed7', 'de...  "
      ]
     },
     "execution_count": 17,
     "metadata": {},
     "output_type": "execute_result"
    }
   ],
   "source": [
    "merged_df.head()"
   ]
  },
  {
   "cell_type": "code",
   "execution_count": 18,
   "metadata": {},
   "outputs": [],
   "source": [
    "# convert string representations of lists or dictionaries back into actual Python objects \n",
    "import ast\n",
    "\n",
    "def convert_to_objects(data):\n",
    "    \"\"\"\n",
    "    Convert string representations of lists or dictionaries back into actual Python objects\n",
    "    \n",
    "    Args:\n",
    "        data (str): The string representation of the data\n",
    "        \n",
    "    Returns:\n",
    "        object: The converted Python object\n",
    "    \"\"\"\n",
    "    return ast.literal_eval(data)"
   ]
  },
  {
   "cell_type": "code",
   "execution_count": 19,
   "metadata": {},
   "outputs": [],
   "source": [
    "merged_df['genres'] = merged_df['genres'].map(convert_to_objects)\n",
    "merged_df['cast'] = merged_df['cast'].map(convert_to_objects)\n",
    "merged_df['crew'] = merged_df['crew'].map(convert_to_objects)"
   ]
  },
  {
   "cell_type": "code",
   "execution_count": 20,
   "metadata": {},
   "outputs": [],
   "source": [
    "merged_df['genres_list'] = merged_df['genres'].apply(lambda x: ' '.join([genre.get('name', '') for genre in x]) or np.NaN)"
   ]
  },
  {
   "cell_type": "code",
   "execution_count": 21,
   "metadata": {},
   "outputs": [],
   "source": [
    "# actors\n",
    "merged_df['actor_1_name'] = merged_df['cast'].apply(lambda x: x[0]['name'] if x and len(x) > 0 else np.NaN)\n",
    "merged_df['actor_2_name'] = merged_df['cast'].apply(lambda x: x[1]['name'] if x and len(x) > 1 else np.NaN)\n",
    "merged_df['actor_3_name'] = merged_df['cast'].apply(lambda x: x[2]['name'] if x and len(x) > 2 else np.NaN)\n",
    "\n",
    "# directors\n",
    "merged_df['director_name'] = merged_df['crew'].apply(lambda x: next((crew['name'] for crew in x if crew.get('job') == 'Director'), np.NaN))"
   ]
  },
  {
   "cell_type": "code",
   "execution_count": 22,
   "metadata": {},
   "outputs": [],
   "source": [
    "df4 = merged_df.loc[:,['title','genres_list', 'director_name','actor_1_name','actor_2_name','actor_3_name']]"
   ]
  },
  {
   "cell_type": "code",
   "execution_count": 23,
   "metadata": {},
   "outputs": [],
   "source": [
    "df4 = df4.rename(columns={'title':'movie_title','genres_list':'genres'})"
   ]
  },
  {
   "cell_type": "markdown",
   "metadata": {},
   "source": [
    "**Wikipedia Data processing**\n",
    "\n",
    "Use of TMDB API for genres search"
   ]
  },
  {
   "cell_type": "code",
   "execution_count": 24,
   "metadata": {},
   "outputs": [
    {
     "data": {
      "text/html": [
       "<div>\n",
       "<style scoped>\n",
       "    .dataframe tbody tr th:only-of-type {\n",
       "        vertical-align: middle;\n",
       "    }\n",
       "\n",
       "    .dataframe tbody tr th {\n",
       "        vertical-align: top;\n",
       "    }\n",
       "\n",
       "    .dataframe thead th {\n",
       "        text-align: right;\n",
       "    }\n",
       "</style>\n",
       "<table border=\"1\" class=\"dataframe\">\n",
       "  <thead>\n",
       "    <tr style=\"text-align: right;\">\n",
       "      <th></th>\n",
       "      <th>Opening</th>\n",
       "      <th>Opening.1</th>\n",
       "      <th>Title</th>\n",
       "      <th>Production company</th>\n",
       "      <th>Cast and crew</th>\n",
       "      <th>.mw-parser-output .tooltip-dotted{border-bottom:1px dotted;cursor:help}Ref.</th>\n",
       "      <th>Ref.</th>\n",
       "    </tr>\n",
       "  </thead>\n",
       "  <tbody>\n",
       "    <tr>\n",
       "      <th>0</th>\n",
       "      <td>J A N U A R Y</td>\n",
       "      <td>5</td>\n",
       "      <td>Insidious: The Last Key</td>\n",
       "      <td>Universal Pictures / Blumhouse Productions / S...</td>\n",
       "      <td>Adam Robitel (director); Leigh Whannell (scree...</td>\n",
       "      <td>[2]</td>\n",
       "      <td>NaN</td>\n",
       "    </tr>\n",
       "    <tr>\n",
       "      <th>1</th>\n",
       "      <td>J A N U A R Y</td>\n",
       "      <td>5</td>\n",
       "      <td>The Strange Ones</td>\n",
       "      <td>Vertical Entertainment</td>\n",
       "      <td>Christopher Radcliff (director/screenplay); La...</td>\n",
       "      <td>[3]</td>\n",
       "      <td>NaN</td>\n",
       "    </tr>\n",
       "    <tr>\n",
       "      <th>2</th>\n",
       "      <td>J A N U A R Y</td>\n",
       "      <td>12</td>\n",
       "      <td>The Commuter</td>\n",
       "      <td>Lionsgate / StudioCanal / The Picture Company</td>\n",
       "      <td>Jaume Collet-Serra (director); Byron Willinger...</td>\n",
       "      <td>[4]</td>\n",
       "      <td>NaN</td>\n",
       "    </tr>\n",
       "    <tr>\n",
       "      <th>3</th>\n",
       "      <td>J A N U A R Y</td>\n",
       "      <td>12</td>\n",
       "      <td>Proud Mary</td>\n",
       "      <td>Screen Gems</td>\n",
       "      <td>Babak Najafi (director); John S. Newman, Chris...</td>\n",
       "      <td>[5]</td>\n",
       "      <td>NaN</td>\n",
       "    </tr>\n",
       "    <tr>\n",
       "      <th>4</th>\n",
       "      <td>J A N U A R Y</td>\n",
       "      <td>12</td>\n",
       "      <td>Acts of Violence</td>\n",
       "      <td>Lionsgate Premiere</td>\n",
       "      <td>Brett Donowho (director); Nicolas Aaron Mezzan...</td>\n",
       "      <td>[6]</td>\n",
       "      <td>NaN</td>\n",
       "    </tr>\n",
       "  </tbody>\n",
       "</table>\n",
       "</div>"
      ],
      "text/plain": [
       "         Opening  Opening.1                    Title  \\\n",
       "0  J A N U A R Y          5  Insidious: The Last Key   \n",
       "1  J A N U A R Y          5         The Strange Ones   \n",
       "2  J A N U A R Y         12             The Commuter   \n",
       "3  J A N U A R Y         12               Proud Mary   \n",
       "4  J A N U A R Y         12         Acts of Violence   \n",
       "\n",
       "                                  Production company  \\\n",
       "0  Universal Pictures / Blumhouse Productions / S...   \n",
       "1                             Vertical Entertainment   \n",
       "2      Lionsgate / StudioCanal / The Picture Company   \n",
       "3                                        Screen Gems   \n",
       "4                                 Lionsgate Premiere   \n",
       "\n",
       "                                       Cast and crew  \\\n",
       "0  Adam Robitel (director); Leigh Whannell (scree...   \n",
       "1  Christopher Radcliff (director/screenplay); La...   \n",
       "2  Jaume Collet-Serra (director); Byron Willinger...   \n",
       "3  Babak Najafi (director); John S. Newman, Chris...   \n",
       "4  Brett Donowho (director); Nicolas Aaron Mezzan...   \n",
       "\n",
       "  .mw-parser-output .tooltip-dotted{border-bottom:1px dotted;cursor:help}Ref.  \\\n",
       "0                                                [2]                            \n",
       "1                                                [3]                            \n",
       "2                                                [4]                            \n",
       "3                                                [5]                            \n",
       "4                                                [6]                            \n",
       "\n",
       "  Ref.  \n",
       "0  NaN  \n",
       "1  NaN  \n",
       "2  NaN  \n",
       "3  NaN  \n",
       "4  NaN  "
      ]
     },
     "execution_count": 24,
     "metadata": {},
     "output_type": "execute_result"
    }
   ],
   "source": [
    "df18.head()"
   ]
  },
  {
   "cell_type": "code",
   "execution_count": 25,
   "metadata": {},
   "outputs": [],
   "source": [
    "from tmdbv3api import TMDb\n",
    "from tmdbv3api import Movie\n",
    "import requests\n",
    "\n",
    "tmdb = TMDb()\n",
    "tmdb.api_key = '8080c6dff83cd358d743134fa5cb5282'\n",
    "tmdb_movie = Movie()"
   ]
  },
  {
   "cell_type": "code",
   "execution_count": 26,
   "metadata": {},
   "outputs": [],
   "source": [
    "def get_genre(movie):\n",
    "    try:\n",
    "        result = tmdb_movie.search(movie)\n",
    "        if len(result) > 0:\n",
    "            movie_id = result[0].id \n",
    "            response = requests.get(f\"https://api.themoviedb.org/3/movie/{movie_id}?api_key={tmdb.api_key}\") \n",
    "            response.raise_for_status()  # Check for request errors\n",
    "            json_data = response.json() \n",
    "            genres_list = json_data.get('genres', [])\n",
    "            movie_genres = ' '.join(genre.get('name', '') for genre in genres_list) or np.NaN \n",
    "            return movie_genres\n",
    "        else:\n",
    "            return np.NaN\n",
    "    except Exception as e:\n",
    "        print(f\"Error for movie '{movie}': {e}\")\n",
    "        return np.NaN"
   ]
  },
  {
   "cell_type": "code",
   "execution_count": 27,
   "metadata": {},
   "outputs": [],
   "source": [
    "def get_director(x):\n",
    "    if \" (director)\" in x:\n",
    "        return x.split(\" (director);\")[0]\n",
    "    elif \" (directors)\" in x:\n",
    "        return x.split(\" (directors);\")[0]\n",
    "    else:\n",
    "        return x.split(\" (director/screenplay);\")[0]"
   ]
  },
  {
   "cell_type": "code",
   "execution_count": 28,
   "metadata": {},
   "outputs": [],
   "source": [
    "def get_actor1(x):\n",
    "    if len((x.split(\"(screenplay); \")[-1]).split(\", \"))>=1:\n",
    "        return ((x.split(\"(screenplay); \")[-1]).split(\", \")[0]) \n",
    "    else:\n",
    "        return np.NaN"
   ]
  },
  {
   "cell_type": "code",
   "execution_count": 29,
   "metadata": {},
   "outputs": [],
   "source": [
    "def get_actor2(x):\n",
    "  if len((x.split(\"(screenplay); \")[-1]).split(\", \"))>=2:\n",
    "    return ((x.split(\"(screenplay); \")[-1]).split(\", \")[1]) \n",
    "  else:\n",
    "    return np.NaN"
   ]
  },
  {
   "cell_type": "code",
   "execution_count": 30,
   "metadata": {},
   "outputs": [],
   "source": [
    "def get_actor3(x):\n",
    "  if len((x.split(\"(screenplay); \")[-1]).split(\", \"))>=3:\n",
    "    return ((x.split(\"(screenplay); \")[-1]).split(\", \")[2]) \n",
    "  else:\n",
    "    return np.NaN"
   ]
  },
  {
   "cell_type": "code",
   "execution_count": 31,
   "metadata": {},
   "outputs": [],
   "source": [
    "def get_wiki_process_data(df):\n",
    "  df['genres'] = df['Title'].map(lambda x: get_genre(str(x)))\n",
    "  df['director_name'] = df['Cast and crew'].map(lambda x: get_director(str(x)))\n",
    "  df['actor_1_name'] = df['Cast and crew'].map(lambda x: get_actor1(str(x)))\n",
    "  df['actor_2_name'] = df['Cast and crew'].map(lambda x: get_actor2(str(x)))\n",
    "  df['actor_3_name'] = df['Cast and crew'].map(lambda x: get_actor3(str(x)))\n",
    "  df = df.loc[:,['Title','genres','director_name','actor_1_name','actor_2_name','actor_3_name']]\n",
    "  df = df.rename(columns={'Title':'movie_title'})\n",
    "  return df\n",
    "  \n",
    "  "
   ]
  },
  {
   "cell_type": "markdown",
   "metadata": {},
   "source": [
    "**Process 2018 Movies**"
   ]
  },
  {
   "cell_type": "code",
   "execution_count": 32,
   "metadata": {},
   "outputs": [
    {
     "data": {
      "text/plain": [
       "241"
      ]
     },
     "execution_count": 32,
     "metadata": {},
     "output_type": "execute_result"
    }
   ],
   "source": [
    "len(df18)"
   ]
  },
  {
   "cell_type": "code",
   "execution_count": 33,
   "metadata": {},
   "outputs": [],
   "source": [
    "df18 = get_wiki_process_data(df18) "
   ]
  },
  {
   "cell_type": "markdown",
   "metadata": {},
   "source": [
    "**Process 2019 Movies**"
   ]
  },
  {
   "cell_type": "code",
   "execution_count": 34,
   "metadata": {},
   "outputs": [],
   "source": [
    "df19 = get_wiki_process_data(df19) "
   ]
  },
  {
   "cell_type": "markdown",
   "metadata": {},
   "source": [
    "**Process 2020 Movies**"
   ]
  },
  {
   "cell_type": "code",
   "execution_count": 35,
   "metadata": {},
   "outputs": [
    {
     "name": "stdout",
     "output_type": "stream",
     "text": [
      "Error for movie 'No films had been released on this date as resulting the closure of theaters caused by the COVID-19 pandemic': getattr(): attribute name must be string\n",
      "Error for movie 'The SpongeBob Movie: Sponge on the Run (Canadian theatrical release)': getattr(): attribute name must be string\n"
     ]
    }
   ],
   "source": [
    "df20 = get_wiki_process_data(df20) "
   ]
  },
  {
   "cell_type": "markdown",
   "metadata": {},
   "source": [
    "**Process 2021 Movies**"
   ]
  },
  {
   "cell_type": "code",
   "execution_count": 36,
   "metadata": {},
   "outputs": [
    {
     "name": "stdout",
     "output_type": "stream",
     "text": [
      "Error for movie 'Dating and New York': getattr(): attribute name must be string\n"
     ]
    }
   ],
   "source": [
    "df21 = get_wiki_process_data(df21) "
   ]
  },
  {
   "cell_type": "markdown",
   "metadata": {},
   "source": [
    "**Process 2022 Movies**"
   ]
  },
  {
   "cell_type": "code",
   "execution_count": 37,
   "metadata": {},
   "outputs": [
    {
     "name": "stdout",
     "output_type": "stream",
     "text": [
      "Error for movie 'Apollo 10 1⁄2: A Space Age Childhood': getattr(): attribute name must be string\n"
     ]
    }
   ],
   "source": [
    "df22 = get_wiki_process_data(df22) "
   ]
  },
  {
   "cell_type": "markdown",
   "metadata": {},
   "source": [
    "**Process 2023 Movies**"
   ]
  },
  {
   "cell_type": "code",
   "execution_count": 38,
   "metadata": {},
   "outputs": [],
   "source": [
    "df23 = get_wiki_process_data(df23) "
   ]
  },
  {
   "cell_type": "markdown",
   "metadata": {},
   "source": [
    "**Merge and Clean**"
   ]
  },
  {
   "cell_type": "markdown",
   "metadata": {},
   "source": [
    "We get first level clean data as df1, df4 (got from df2 and df3), df18 to df23. \n",
    "Lets merge it to a single df and preprocess that."
   ]
  },
  {
   "cell_type": "code",
   "execution_count": 39,
   "metadata": {},
   "outputs": [
    {
     "data": {
      "text/html": [
       "<div>\n",
       "<style scoped>\n",
       "    .dataframe tbody tr th:only-of-type {\n",
       "        vertical-align: middle;\n",
       "    }\n",
       "\n",
       "    .dataframe tbody tr th {\n",
       "        vertical-align: top;\n",
       "    }\n",
       "\n",
       "    .dataframe thead th {\n",
       "        text-align: right;\n",
       "    }\n",
       "</style>\n",
       "<table border=\"1\" class=\"dataframe\">\n",
       "  <thead>\n",
       "    <tr style=\"text-align: right;\">\n",
       "      <th></th>\n",
       "      <th>movie_title</th>\n",
       "      <th>genres</th>\n",
       "      <th>director_name</th>\n",
       "      <th>actor_1_name</th>\n",
       "      <th>actor_2_name</th>\n",
       "      <th>actor_3_name</th>\n",
       "    </tr>\n",
       "  </thead>\n",
       "  <tbody>\n",
       "    <tr>\n",
       "      <th>0</th>\n",
       "      <td>Avatar</td>\n",
       "      <td>Action Adventure Fantasy Sci-Fi</td>\n",
       "      <td>James Cameron</td>\n",
       "      <td>CCH Pounder</td>\n",
       "      <td>Joel David Moore</td>\n",
       "      <td>Wes Studi</td>\n",
       "    </tr>\n",
       "    <tr>\n",
       "      <th>1</th>\n",
       "      <td>Pirates of the Caribbean: At World's End</td>\n",
       "      <td>Action Adventure Fantasy</td>\n",
       "      <td>Gore Verbinski</td>\n",
       "      <td>Johnny Depp</td>\n",
       "      <td>Orlando Bloom</td>\n",
       "      <td>Jack Davenport</td>\n",
       "    </tr>\n",
       "    <tr>\n",
       "      <th>2</th>\n",
       "      <td>Spectre</td>\n",
       "      <td>Action Adventure Thriller</td>\n",
       "      <td>Sam Mendes</td>\n",
       "      <td>Christoph Waltz</td>\n",
       "      <td>Rory Kinnear</td>\n",
       "      <td>Stephanie Sigman</td>\n",
       "    </tr>\n",
       "    <tr>\n",
       "      <th>3</th>\n",
       "      <td>The Dark Knight Rises</td>\n",
       "      <td>Action Thriller</td>\n",
       "      <td>Christopher Nolan</td>\n",
       "      <td>Tom Hardy</td>\n",
       "      <td>Christian Bale</td>\n",
       "      <td>Joseph Gordon-Levitt</td>\n",
       "    </tr>\n",
       "    <tr>\n",
       "      <th>4</th>\n",
       "      <td>Star Wars: Episode VII - The Force Awakens    ...</td>\n",
       "      <td>Documentary</td>\n",
       "      <td>Doug Walker</td>\n",
       "      <td>Doug Walker</td>\n",
       "      <td>Rob Walker</td>\n",
       "      <td>NaN</td>\n",
       "    </tr>\n",
       "  </tbody>\n",
       "</table>\n",
       "</div>"
      ],
      "text/plain": [
       "                                         movie_title  \\\n",
       "0                                            Avatar    \n",
       "1          Pirates of the Caribbean: At World's End    \n",
       "2                                           Spectre    \n",
       "3                             The Dark Knight Rises    \n",
       "4  Star Wars: Episode VII - The Force Awakens    ...   \n",
       "\n",
       "                            genres      director_name     actor_1_name  \\\n",
       "0  Action Adventure Fantasy Sci-Fi      James Cameron      CCH Pounder   \n",
       "1         Action Adventure Fantasy     Gore Verbinski      Johnny Depp   \n",
       "2        Action Adventure Thriller         Sam Mendes  Christoph Waltz   \n",
       "3                  Action Thriller  Christopher Nolan        Tom Hardy   \n",
       "4                      Documentary        Doug Walker      Doug Walker   \n",
       "\n",
       "       actor_2_name          actor_3_name  \n",
       "0  Joel David Moore             Wes Studi  \n",
       "1     Orlando Bloom        Jack Davenport  \n",
       "2      Rory Kinnear      Stephanie Sigman  \n",
       "3    Christian Bale  Joseph Gordon-Levitt  \n",
       "4        Rob Walker                   NaN  "
      ]
     },
     "execution_count": 39,
     "metadata": {},
     "output_type": "execute_result"
    }
   ],
   "source": [
    "df1.head()"
   ]
  },
  {
   "cell_type": "code",
   "execution_count": 40,
   "metadata": {},
   "outputs": [
    {
     "data": {
      "text/html": [
       "<div>\n",
       "<style scoped>\n",
       "    .dataframe tbody tr th:only-of-type {\n",
       "        vertical-align: middle;\n",
       "    }\n",
       "\n",
       "    .dataframe tbody tr th {\n",
       "        vertical-align: top;\n",
       "    }\n",
       "\n",
       "    .dataframe thead th {\n",
       "        text-align: right;\n",
       "    }\n",
       "</style>\n",
       "<table border=\"1\" class=\"dataframe\">\n",
       "  <thead>\n",
       "    <tr style=\"text-align: right;\">\n",
       "      <th></th>\n",
       "      <th>movie_title</th>\n",
       "      <th>genres</th>\n",
       "      <th>director_name</th>\n",
       "      <th>actor_1_name</th>\n",
       "      <th>actor_2_name</th>\n",
       "      <th>actor_3_name</th>\n",
       "    </tr>\n",
       "  </thead>\n",
       "  <tbody>\n",
       "    <tr>\n",
       "      <th>0</th>\n",
       "      <td>Toy Story</td>\n",
       "      <td>Animation Comedy Family</td>\n",
       "      <td>John Lasseter</td>\n",
       "      <td>Tom Hanks</td>\n",
       "      <td>Tim Allen</td>\n",
       "      <td>Don Rickles</td>\n",
       "    </tr>\n",
       "    <tr>\n",
       "      <th>1</th>\n",
       "      <td>Jumanji</td>\n",
       "      <td>Adventure Fantasy Family</td>\n",
       "      <td>Joe Johnston</td>\n",
       "      <td>Robin Williams</td>\n",
       "      <td>Jonathan Hyde</td>\n",
       "      <td>Kirsten Dunst</td>\n",
       "    </tr>\n",
       "    <tr>\n",
       "      <th>2</th>\n",
       "      <td>Grumpier Old Men</td>\n",
       "      <td>Romance Comedy</td>\n",
       "      <td>Howard Deutch</td>\n",
       "      <td>Walter Matthau</td>\n",
       "      <td>Jack Lemmon</td>\n",
       "      <td>Ann-Margret</td>\n",
       "    </tr>\n",
       "    <tr>\n",
       "      <th>3</th>\n",
       "      <td>Waiting to Exhale</td>\n",
       "      <td>Comedy Drama Romance</td>\n",
       "      <td>Forest Whitaker</td>\n",
       "      <td>Whitney Houston</td>\n",
       "      <td>Angela Bassett</td>\n",
       "      <td>Loretta Devine</td>\n",
       "    </tr>\n",
       "    <tr>\n",
       "      <th>4</th>\n",
       "      <td>Father of the Bride Part II</td>\n",
       "      <td>Comedy</td>\n",
       "      <td>Charles Shyer</td>\n",
       "      <td>Steve Martin</td>\n",
       "      <td>Diane Keaton</td>\n",
       "      <td>Martin Short</td>\n",
       "    </tr>\n",
       "  </tbody>\n",
       "</table>\n",
       "</div>"
      ],
      "text/plain": [
       "                   movie_title                    genres    director_name  \\\n",
       "0                    Toy Story   Animation Comedy Family    John Lasseter   \n",
       "1                      Jumanji  Adventure Fantasy Family     Joe Johnston   \n",
       "2             Grumpier Old Men            Romance Comedy    Howard Deutch   \n",
       "3            Waiting to Exhale      Comedy Drama Romance  Forest Whitaker   \n",
       "4  Father of the Bride Part II                    Comedy    Charles Shyer   \n",
       "\n",
       "      actor_1_name    actor_2_name    actor_3_name  \n",
       "0        Tom Hanks       Tim Allen     Don Rickles  \n",
       "1   Robin Williams   Jonathan Hyde   Kirsten Dunst  \n",
       "2   Walter Matthau     Jack Lemmon     Ann-Margret  \n",
       "3  Whitney Houston  Angela Bassett  Loretta Devine  \n",
       "4     Steve Martin    Diane Keaton    Martin Short  "
      ]
     },
     "execution_count": 40,
     "metadata": {},
     "output_type": "execute_result"
    }
   ],
   "source": [
    "df4.head()"
   ]
  },
  {
   "cell_type": "code",
   "execution_count": 41,
   "metadata": {},
   "outputs": [
    {
     "data": {
      "text/html": [
       "<div>\n",
       "<style scoped>\n",
       "    .dataframe tbody tr th:only-of-type {\n",
       "        vertical-align: middle;\n",
       "    }\n",
       "\n",
       "    .dataframe tbody tr th {\n",
       "        vertical-align: top;\n",
       "    }\n",
       "\n",
       "    .dataframe thead th {\n",
       "        text-align: right;\n",
       "    }\n",
       "</style>\n",
       "<table border=\"1\" class=\"dataframe\">\n",
       "  <thead>\n",
       "    <tr style=\"text-align: right;\">\n",
       "      <th></th>\n",
       "      <th>movie_title</th>\n",
       "      <th>genres</th>\n",
       "      <th>director_name</th>\n",
       "      <th>actor_1_name</th>\n",
       "      <th>actor_2_name</th>\n",
       "      <th>actor_3_name</th>\n",
       "    </tr>\n",
       "  </thead>\n",
       "  <tbody>\n",
       "    <tr>\n",
       "      <th>0</th>\n",
       "      <td>Insidious: The Last Key</td>\n",
       "      <td>Horror Mystery Thriller</td>\n",
       "      <td>Adam Robitel</td>\n",
       "      <td>Lin Shaye</td>\n",
       "      <td>Angus Sampson</td>\n",
       "      <td>Leigh Whannell</td>\n",
       "    </tr>\n",
       "    <tr>\n",
       "      <th>1</th>\n",
       "      <td>The Strange Ones</td>\n",
       "      <td>Drama Mystery</td>\n",
       "      <td>Christopher Radcliff (director/screenplay); La...</td>\n",
       "      <td>Christopher Radcliff (director/screenplay); La...</td>\n",
       "      <td>James Freedson-Jackson</td>\n",
       "      <td>Emily Althaus</td>\n",
       "    </tr>\n",
       "    <tr>\n",
       "      <th>2</th>\n",
       "      <td>The Commuter</td>\n",
       "      <td>Action Thriller Mystery</td>\n",
       "      <td>Jaume Collet-Serra</td>\n",
       "      <td>Liam Neeson</td>\n",
       "      <td>Vera Farmiga</td>\n",
       "      <td>Patrick Wilson</td>\n",
       "    </tr>\n",
       "    <tr>\n",
       "      <th>3</th>\n",
       "      <td>Proud Mary</td>\n",
       "      <td>Thriller Action Crime</td>\n",
       "      <td>Babak Najafi</td>\n",
       "      <td>Taraji P. Henson</td>\n",
       "      <td>Jahi Di'Allo Winston</td>\n",
       "      <td>Billy Brown</td>\n",
       "    </tr>\n",
       "    <tr>\n",
       "      <th>4</th>\n",
       "      <td>Acts of Violence</td>\n",
       "      <td>Action Crime Thriller</td>\n",
       "      <td>Brett Donowho</td>\n",
       "      <td>Bruce Willis</td>\n",
       "      <td>Cole Hauser</td>\n",
       "      <td>Shawn Ashmore</td>\n",
       "    </tr>\n",
       "  </tbody>\n",
       "</table>\n",
       "</div>"
      ],
      "text/plain": [
       "               movie_title                   genres  \\\n",
       "0  Insidious: The Last Key  Horror Mystery Thriller   \n",
       "1         The Strange Ones            Drama Mystery   \n",
       "2             The Commuter  Action Thriller Mystery   \n",
       "3               Proud Mary    Thriller Action Crime   \n",
       "4         Acts of Violence    Action Crime Thriller   \n",
       "\n",
       "                                       director_name  \\\n",
       "0                                       Adam Robitel   \n",
       "1  Christopher Radcliff (director/screenplay); La...   \n",
       "2                                 Jaume Collet-Serra   \n",
       "3                                       Babak Najafi   \n",
       "4                                      Brett Donowho   \n",
       "\n",
       "                                        actor_1_name            actor_2_name  \\\n",
       "0                                          Lin Shaye           Angus Sampson   \n",
       "1  Christopher Radcliff (director/screenplay); La...  James Freedson-Jackson   \n",
       "2                                        Liam Neeson            Vera Farmiga   \n",
       "3                                   Taraji P. Henson    Jahi Di'Allo Winston   \n",
       "4                                       Bruce Willis             Cole Hauser   \n",
       "\n",
       "     actor_3_name  \n",
       "0  Leigh Whannell  \n",
       "1   Emily Althaus  \n",
       "2  Patrick Wilson  \n",
       "3     Billy Brown  \n",
       "4   Shawn Ashmore  "
      ]
     },
     "execution_count": 41,
     "metadata": {},
     "output_type": "execute_result"
    }
   ],
   "source": [
    "df18.head()"
   ]
  },
  {
   "cell_type": "code",
   "execution_count": 42,
   "metadata": {},
   "outputs": [
    {
     "data": {
      "text/html": [
       "<div>\n",
       "<style scoped>\n",
       "    .dataframe tbody tr th:only-of-type {\n",
       "        vertical-align: middle;\n",
       "    }\n",
       "\n",
       "    .dataframe tbody tr th {\n",
       "        vertical-align: top;\n",
       "    }\n",
       "\n",
       "    .dataframe thead th {\n",
       "        text-align: right;\n",
       "    }\n",
       "</style>\n",
       "<table border=\"1\" class=\"dataframe\">\n",
       "  <thead>\n",
       "    <tr style=\"text-align: right;\">\n",
       "      <th></th>\n",
       "      <th>movie_title</th>\n",
       "      <th>genres</th>\n",
       "      <th>director_name</th>\n",
       "      <th>actor_1_name</th>\n",
       "      <th>actor_2_name</th>\n",
       "      <th>actor_3_name</th>\n",
       "    </tr>\n",
       "  </thead>\n",
       "  <tbody>\n",
       "    <tr>\n",
       "      <th>0</th>\n",
       "      <td>Escape Room</td>\n",
       "      <td>Horror Thriller Mystery</td>\n",
       "      <td>Adam Robitel</td>\n",
       "      <td>Taylor Russell</td>\n",
       "      <td>Logan Miller</td>\n",
       "      <td>Deborah Ann Woll</td>\n",
       "    </tr>\n",
       "    <tr>\n",
       "      <th>1</th>\n",
       "      <td>Rust Creek</td>\n",
       "      <td>Thriller Drama Action Crime</td>\n",
       "      <td>Jen McGowan</td>\n",
       "      <td>Hermione Corfield</td>\n",
       "      <td>Jay Paulson</td>\n",
       "      <td>Sean O'Bryan</td>\n",
       "    </tr>\n",
       "    <tr>\n",
       "      <th>2</th>\n",
       "      <td>American Hangman</td>\n",
       "      <td>Thriller</td>\n",
       "      <td>Wilson Coneybeare</td>\n",
       "      <td>Wilson Coneybeare (director/screenplay); Donal...</td>\n",
       "      <td>Vincent Kartheiser</td>\n",
       "      <td>Oliver Dennis</td>\n",
       "    </tr>\n",
       "    <tr>\n",
       "      <th>3</th>\n",
       "      <td>A Dog's Way Home</td>\n",
       "      <td>Drama Adventure Family</td>\n",
       "      <td>Charles Martin Smith</td>\n",
       "      <td>Bryce Dallas Howard</td>\n",
       "      <td>Edward James Olmos</td>\n",
       "      <td>Alexandra Shipp</td>\n",
       "    </tr>\n",
       "    <tr>\n",
       "      <th>4</th>\n",
       "      <td>The Upside</td>\n",
       "      <td>Comedy Drama</td>\n",
       "      <td>Neil Burger</td>\n",
       "      <td>Bryan Cranston</td>\n",
       "      <td>Kevin Hart</td>\n",
       "      <td>Nicole Kidman</td>\n",
       "    </tr>\n",
       "  </tbody>\n",
       "</table>\n",
       "</div>"
      ],
      "text/plain": [
       "        movie_title                       genres         director_name  \\\n",
       "0       Escape Room      Horror Thriller Mystery          Adam Robitel   \n",
       "1        Rust Creek  Thriller Drama Action Crime           Jen McGowan   \n",
       "2  American Hangman                     Thriller     Wilson Coneybeare   \n",
       "3  A Dog's Way Home       Drama Adventure Family  Charles Martin Smith   \n",
       "4        The Upside                 Comedy Drama           Neil Burger   \n",
       "\n",
       "                                        actor_1_name        actor_2_name  \\\n",
       "0                                     Taylor Russell        Logan Miller   \n",
       "1                                  Hermione Corfield         Jay Paulson   \n",
       "2  Wilson Coneybeare (director/screenplay); Donal...  Vincent Kartheiser   \n",
       "3                                Bryce Dallas Howard  Edward James Olmos   \n",
       "4                                     Bryan Cranston          Kevin Hart   \n",
       "\n",
       "       actor_3_name  \n",
       "0  Deborah Ann Woll  \n",
       "1      Sean O'Bryan  \n",
       "2     Oliver Dennis  \n",
       "3   Alexandra Shipp  \n",
       "4     Nicole Kidman  "
      ]
     },
     "execution_count": 42,
     "metadata": {},
     "output_type": "execute_result"
    }
   ],
   "source": [
    "df19.head()"
   ]
  },
  {
   "cell_type": "code",
   "execution_count": 43,
   "metadata": {},
   "outputs": [
    {
     "data": {
      "text/html": [
       "<div>\n",
       "<style scoped>\n",
       "    .dataframe tbody tr th:only-of-type {\n",
       "        vertical-align: middle;\n",
       "    }\n",
       "\n",
       "    .dataframe tbody tr th {\n",
       "        vertical-align: top;\n",
       "    }\n",
       "\n",
       "    .dataframe thead th {\n",
       "        text-align: right;\n",
       "    }\n",
       "</style>\n",
       "<table border=\"1\" class=\"dataframe\">\n",
       "  <thead>\n",
       "    <tr style=\"text-align: right;\">\n",
       "      <th></th>\n",
       "      <th>movie_title</th>\n",
       "      <th>genres</th>\n",
       "      <th>director_name</th>\n",
       "      <th>actor_1_name</th>\n",
       "      <th>actor_2_name</th>\n",
       "      <th>actor_3_name</th>\n",
       "    </tr>\n",
       "  </thead>\n",
       "  <tbody>\n",
       "    <tr>\n",
       "      <th>0</th>\n",
       "      <td>The Grudge</td>\n",
       "      <td>Horror Mystery</td>\n",
       "      <td>Nicolas Pesce</td>\n",
       "      <td>Nicolas Pesce (director/screenplay); Andrea Ri...</td>\n",
       "      <td>Demián Bichir</td>\n",
       "      <td>John Cho</td>\n",
       "    </tr>\n",
       "    <tr>\n",
       "      <th>1</th>\n",
       "      <td>Underwater</td>\n",
       "      <td>Horror Science Fiction Action Adventure</td>\n",
       "      <td>William Eubank</td>\n",
       "      <td>Kristen Stewart</td>\n",
       "      <td>Vincent Cassel</td>\n",
       "      <td>Jessica Henwick</td>\n",
       "    </tr>\n",
       "    <tr>\n",
       "      <th>2</th>\n",
       "      <td>Like a Boss</td>\n",
       "      <td>Comedy</td>\n",
       "      <td>Miguel Arteta</td>\n",
       "      <td>Tiffany Haddish</td>\n",
       "      <td>Rose Byrne</td>\n",
       "      <td>Salma Hayek</td>\n",
       "    </tr>\n",
       "    <tr>\n",
       "      <th>3</th>\n",
       "      <td>Three Christs</td>\n",
       "      <td>Drama</td>\n",
       "      <td>Jon Avnet</td>\n",
       "      <td>Richard Gere</td>\n",
       "      <td>Peter Dinklage</td>\n",
       "      <td>Walton Goggins</td>\n",
       "    </tr>\n",
       "    <tr>\n",
       "      <th>4</th>\n",
       "      <td>Inherit the Viper</td>\n",
       "      <td>Crime Thriller Drama</td>\n",
       "      <td>Anthony Jerjen</td>\n",
       "      <td>Josh Hartnett</td>\n",
       "      <td>Margarita Levieva</td>\n",
       "      <td>Chandler Riggs</td>\n",
       "    </tr>\n",
       "  </tbody>\n",
       "</table>\n",
       "</div>"
      ],
      "text/plain": [
       "         movie_title                                   genres   director_name  \\\n",
       "0         The Grudge                           Horror Mystery   Nicolas Pesce   \n",
       "1         Underwater  Horror Science Fiction Action Adventure  William Eubank   \n",
       "2        Like a Boss                                   Comedy   Miguel Arteta   \n",
       "3      Three Christs                                    Drama       Jon Avnet   \n",
       "4  Inherit the Viper                     Crime Thriller Drama  Anthony Jerjen   \n",
       "\n",
       "                                        actor_1_name       actor_2_name  \\\n",
       "0  Nicolas Pesce (director/screenplay); Andrea Ri...      Demián Bichir   \n",
       "1                                    Kristen Stewart     Vincent Cassel   \n",
       "2                                    Tiffany Haddish         Rose Byrne   \n",
       "3                                       Richard Gere     Peter Dinklage   \n",
       "4                                      Josh Hartnett  Margarita Levieva   \n",
       "\n",
       "      actor_3_name  \n",
       "0         John Cho  \n",
       "1  Jessica Henwick  \n",
       "2      Salma Hayek  \n",
       "3   Walton Goggins  \n",
       "4   Chandler Riggs  "
      ]
     },
     "execution_count": 43,
     "metadata": {},
     "output_type": "execute_result"
    }
   ],
   "source": [
    "df20.head()"
   ]
  },
  {
   "cell_type": "code",
   "execution_count": 44,
   "metadata": {},
   "outputs": [
    {
     "data": {
      "text/html": [
       "<div>\n",
       "<style scoped>\n",
       "    .dataframe tbody tr th:only-of-type {\n",
       "        vertical-align: middle;\n",
       "    }\n",
       "\n",
       "    .dataframe tbody tr th {\n",
       "        vertical-align: top;\n",
       "    }\n",
       "\n",
       "    .dataframe thead th {\n",
       "        text-align: right;\n",
       "    }\n",
       "</style>\n",
       "<table border=\"1\" class=\"dataframe\">\n",
       "  <thead>\n",
       "    <tr style=\"text-align: right;\">\n",
       "      <th></th>\n",
       "      <th>movie_title</th>\n",
       "      <th>genres</th>\n",
       "      <th>director_name</th>\n",
       "      <th>actor_1_name</th>\n",
       "      <th>actor_2_name</th>\n",
       "      <th>actor_3_name</th>\n",
       "    </tr>\n",
       "  </thead>\n",
       "  <tbody>\n",
       "    <tr>\n",
       "      <th>0</th>\n",
       "      <td>Shadow in the Cloud</td>\n",
       "      <td>Horror Action War</td>\n",
       "      <td>Roseanne Liang</td>\n",
       "      <td>Chloë Grace Moretz</td>\n",
       "      <td>Taylor John Smith</td>\n",
       "      <td>Beulah Koale</td>\n",
       "    </tr>\n",
       "    <tr>\n",
       "      <th>1</th>\n",
       "      <td>Hacksaw</td>\n",
       "      <td>Horror</td>\n",
       "      <td>Anthony Leone</td>\n",
       "      <td>Anthony Leone (director/screenplay); Amy Cay</td>\n",
       "      <td>Brian Patrick Butler</td>\n",
       "      <td>Michael C. Burgess</td>\n",
       "    </tr>\n",
       "    <tr>\n",
       "      <th>2</th>\n",
       "      <td>Dr. Bird's Advice for Sad Poets</td>\n",
       "      <td>Comedy Drama</td>\n",
       "      <td>Yaniv Raz</td>\n",
       "      <td>Yaniv Raz (director/screenplay); Lucas Jade Zu...</td>\n",
       "      <td>Taylor Russell</td>\n",
       "      <td>Chase Stokes</td>\n",
       "    </tr>\n",
       "    <tr>\n",
       "      <th>3</th>\n",
       "      <td>The White Tiger</td>\n",
       "      <td>Drama</td>\n",
       "      <td>Ramin Bahrani</td>\n",
       "      <td>Ramin Bahrani (director/screenplay); Adarsh Go...</td>\n",
       "      <td>Rajkummar Rao</td>\n",
       "      <td>Priyanka Chopra Jonas</td>\n",
       "    </tr>\n",
       "    <tr>\n",
       "      <th>4</th>\n",
       "      <td>Locked Down</td>\n",
       "      <td>Comedy Crime Romance</td>\n",
       "      <td>Doug Liman</td>\n",
       "      <td>Anne Hathaway</td>\n",
       "      <td>Chiwetel Ejiofor</td>\n",
       "      <td>Stephen Merchant</td>\n",
       "    </tr>\n",
       "  </tbody>\n",
       "</table>\n",
       "</div>"
      ],
      "text/plain": [
       "                       movie_title                genres   director_name  \\\n",
       "0              Shadow in the Cloud     Horror Action War  Roseanne Liang   \n",
       "1                          Hacksaw                Horror   Anthony Leone   \n",
       "2  Dr. Bird's Advice for Sad Poets          Comedy Drama       Yaniv Raz   \n",
       "3                  The White Tiger                 Drama   Ramin Bahrani   \n",
       "4                      Locked Down  Comedy Crime Romance      Doug Liman   \n",
       "\n",
       "                                        actor_1_name          actor_2_name  \\\n",
       "0                                 Chloë Grace Moretz     Taylor John Smith   \n",
       "1       Anthony Leone (director/screenplay); Amy Cay  Brian Patrick Butler   \n",
       "2  Yaniv Raz (director/screenplay); Lucas Jade Zu...        Taylor Russell   \n",
       "3  Ramin Bahrani (director/screenplay); Adarsh Go...         Rajkummar Rao   \n",
       "4                                      Anne Hathaway      Chiwetel Ejiofor   \n",
       "\n",
       "            actor_3_name  \n",
       "0           Beulah Koale  \n",
       "1     Michael C. Burgess  \n",
       "2           Chase Stokes  \n",
       "3  Priyanka Chopra Jonas  \n",
       "4       Stephen Merchant  "
      ]
     },
     "execution_count": 44,
     "metadata": {},
     "output_type": "execute_result"
    }
   ],
   "source": [
    "df21.head()"
   ]
  },
  {
   "cell_type": "code",
   "execution_count": 45,
   "metadata": {},
   "outputs": [
    {
     "data": {
      "text/html": [
       "<div>\n",
       "<style scoped>\n",
       "    .dataframe tbody tr th:only-of-type {\n",
       "        vertical-align: middle;\n",
       "    }\n",
       "\n",
       "    .dataframe tbody tr th {\n",
       "        vertical-align: top;\n",
       "    }\n",
       "\n",
       "    .dataframe thead th {\n",
       "        text-align: right;\n",
       "    }\n",
       "</style>\n",
       "<table border=\"1\" class=\"dataframe\">\n",
       "  <thead>\n",
       "    <tr style=\"text-align: right;\">\n",
       "      <th></th>\n",
       "      <th>movie_title</th>\n",
       "      <th>genres</th>\n",
       "      <th>director_name</th>\n",
       "      <th>actor_1_name</th>\n",
       "      <th>actor_2_name</th>\n",
       "      <th>actor_3_name</th>\n",
       "    </tr>\n",
       "  </thead>\n",
       "  <tbody>\n",
       "    <tr>\n",
       "      <th>0</th>\n",
       "      <td>The 355</td>\n",
       "      <td>Action Thriller</td>\n",
       "      <td>Simon Kinberg</td>\n",
       "      <td>Jessica Chastain</td>\n",
       "      <td>Penélope Cruz</td>\n",
       "      <td>Fan Bingbing</td>\n",
       "    </tr>\n",
       "    <tr>\n",
       "      <th>1</th>\n",
       "      <td>The Legend of La Llorona</td>\n",
       "      <td>Family Animation Fantasy Horror</td>\n",
       "      <td>Patricia Harris Seeley</td>\n",
       "      <td>Autumn Reeser</td>\n",
       "      <td>Danny Trejo</td>\n",
       "      <td>Antonio Cupo</td>\n",
       "    </tr>\n",
       "    <tr>\n",
       "      <th>2</th>\n",
       "      <td>The Commando</td>\n",
       "      <td>Action Crime Thriller</td>\n",
       "      <td>Asif Akbar</td>\n",
       "      <td>Mickey Rourke</td>\n",
       "      <td>Michael Jai White</td>\n",
       "      <td>NaN</td>\n",
       "    </tr>\n",
       "    <tr>\n",
       "      <th>3</th>\n",
       "      <td>American Siege</td>\n",
       "      <td>Action Adventure Thriller</td>\n",
       "      <td>Edward John Drake</td>\n",
       "      <td>Edward John Drake (director/screenplay); Timot...</td>\n",
       "      <td>Bruce Willis</td>\n",
       "      <td>Rob Gough</td>\n",
       "    </tr>\n",
       "    <tr>\n",
       "      <th>4</th>\n",
       "      <td>Scream</td>\n",
       "      <td>Horror Mystery Thriller</td>\n",
       "      <td>Matt Bettinelli-Olpin, Tyler Gillett</td>\n",
       "      <td>Melissa Barrera</td>\n",
       "      <td>Mason Gooding</td>\n",
       "      <td>Jenna Ortega</td>\n",
       "    </tr>\n",
       "  </tbody>\n",
       "</table>\n",
       "</div>"
      ],
      "text/plain": [
       "                movie_title                           genres  \\\n",
       "0                   The 355                  Action Thriller   \n",
       "1  The Legend of La Llorona  Family Animation Fantasy Horror   \n",
       "2              The Commando            Action Crime Thriller   \n",
       "3            American Siege        Action Adventure Thriller   \n",
       "4                    Scream          Horror Mystery Thriller   \n",
       "\n",
       "                          director_name  \\\n",
       "0                         Simon Kinberg   \n",
       "1                Patricia Harris Seeley   \n",
       "2                            Asif Akbar   \n",
       "3                     Edward John Drake   \n",
       "4  Matt Bettinelli-Olpin, Tyler Gillett   \n",
       "\n",
       "                                        actor_1_name       actor_2_name  \\\n",
       "0                                   Jessica Chastain      Penélope Cruz   \n",
       "1                                      Autumn Reeser        Danny Trejo   \n",
       "2                                      Mickey Rourke  Michael Jai White   \n",
       "3  Edward John Drake (director/screenplay); Timot...       Bruce Willis   \n",
       "4                                    Melissa Barrera      Mason Gooding   \n",
       "\n",
       "   actor_3_name  \n",
       "0  Fan Bingbing  \n",
       "1  Antonio Cupo  \n",
       "2           NaN  \n",
       "3     Rob Gough  \n",
       "4  Jenna Ortega  "
      ]
     },
     "execution_count": 45,
     "metadata": {},
     "output_type": "execute_result"
    }
   ],
   "source": [
    "df22.head()"
   ]
  },
  {
   "cell_type": "code",
   "execution_count": 46,
   "metadata": {},
   "outputs": [
    {
     "data": {
      "text/html": [
       "<div>\n",
       "<style scoped>\n",
       "    .dataframe tbody tr th:only-of-type {\n",
       "        vertical-align: middle;\n",
       "    }\n",
       "\n",
       "    .dataframe tbody tr th {\n",
       "        vertical-align: top;\n",
       "    }\n",
       "\n",
       "    .dataframe thead th {\n",
       "        text-align: right;\n",
       "    }\n",
       "</style>\n",
       "<table border=\"1\" class=\"dataframe\">\n",
       "  <thead>\n",
       "    <tr style=\"text-align: right;\">\n",
       "      <th></th>\n",
       "      <th>movie_title</th>\n",
       "      <th>genres</th>\n",
       "      <th>director_name</th>\n",
       "      <th>actor_1_name</th>\n",
       "      <th>actor_2_name</th>\n",
       "      <th>actor_3_name</th>\n",
       "    </tr>\n",
       "  </thead>\n",
       "  <tbody>\n",
       "    <tr>\n",
       "      <th>0</th>\n",
       "      <td>M3GAN</td>\n",
       "      <td>Science Fiction Horror</td>\n",
       "      <td>Gerard Johnstone</td>\n",
       "      <td>Allison Williams</td>\n",
       "      <td>Violet McGraw</td>\n",
       "      <td>Amie Donald</td>\n",
       "    </tr>\n",
       "    <tr>\n",
       "      <th>1</th>\n",
       "      <td>The Old Way</td>\n",
       "      <td>Western</td>\n",
       "      <td>Brett Donowho</td>\n",
       "      <td>Nicolas Cage</td>\n",
       "      <td>Ryan Kiera Armstrong</td>\n",
       "      <td>NaN</td>\n",
       "    </tr>\n",
       "    <tr>\n",
       "      <th>2</th>\n",
       "      <td>The Devil Conspiracy</td>\n",
       "      <td>Horror Fantasy Science Fiction Thriller</td>\n",
       "      <td>Nathan Frankowski</td>\n",
       "      <td>Alice Orr-Ewing</td>\n",
       "      <td>Joe Doyle</td>\n",
       "      <td>Eveline Hall</td>\n",
       "    </tr>\n",
       "    <tr>\n",
       "      <th>3</th>\n",
       "      <td>Plane</td>\n",
       "      <td>Action</td>\n",
       "      <td>Jean-François Richet</td>\n",
       "      <td>Gerard Butler</td>\n",
       "      <td>Mike Colter</td>\n",
       "      <td>Yoson An</td>\n",
       "    </tr>\n",
       "    <tr>\n",
       "      <th>4</th>\n",
       "      <td>House Party</td>\n",
       "      <td>Comedy</td>\n",
       "      <td>Calmatic</td>\n",
       "      <td>Tosin Cole</td>\n",
       "      <td>Jacob Latimore</td>\n",
       "      <td>Karen Obilom</td>\n",
       "    </tr>\n",
       "  </tbody>\n",
       "</table>\n",
       "</div>"
      ],
      "text/plain": [
       "            movie_title                                   genres  \\\n",
       "0                 M3GAN                   Science Fiction Horror   \n",
       "1           The Old Way                                  Western   \n",
       "2  The Devil Conspiracy  Horror Fantasy Science Fiction Thriller   \n",
       "3                 Plane                                   Action   \n",
       "4           House Party                                   Comedy   \n",
       "\n",
       "          director_name      actor_1_name          actor_2_name  actor_3_name  \n",
       "0      Gerard Johnstone  Allison Williams         Violet McGraw   Amie Donald  \n",
       "1         Brett Donowho      Nicolas Cage  Ryan Kiera Armstrong           NaN  \n",
       "2     Nathan Frankowski   Alice Orr-Ewing             Joe Doyle  Eveline Hall  \n",
       "3  Jean-François Richet     Gerard Butler           Mike Colter      Yoson An  \n",
       "4              Calmatic        Tosin Cole        Jacob Latimore  Karen Obilom  "
      ]
     },
     "execution_count": 46,
     "metadata": {},
     "output_type": "execute_result"
    }
   ],
   "source": [
    "df23.head()"
   ]
  },
  {
   "cell_type": "markdown",
   "metadata": {},
   "source": [
    "Second level of Preprocessing"
   ]
  },
  {
   "cell_type": "code",
   "execution_count": 47,
   "metadata": {},
   "outputs": [],
   "source": [
    "# Concatenate DataFrames vertically\n",
    "df = pd.concat([df1,df4,df18,df19,df20,df21,df22,df23], ignore_index=True)\n",
    "\n",
    "df['movie_title'] = df['movie_title'].str.lower()\n",
    "\n",
    "# Remove duplicate rows\n",
    "df = df.drop_duplicates(subset='movie_title')\n",
    "\n",
    "# Resetting the index after dropping duplicates\n",
    "df.reset_index(drop=True, inplace=True)"
   ]
  },
  {
   "cell_type": "code",
   "execution_count": 48,
   "metadata": {},
   "outputs": [
    {
     "name": "stdout",
     "output_type": "stream",
     "text": [
      "<class 'pandas.core.frame.DataFrame'>\n",
      "RangeIndex: 48601 entries, 0 to 48600\n",
      "Data columns (total 6 columns):\n",
      " #   Column         Non-Null Count  Dtype \n",
      "---  ------         --------------  ----- \n",
      " 0   movie_title    48600 non-null  object\n",
      " 1   genres         46321 non-null  object\n",
      " 2   director_name  47638 non-null  object\n",
      " 3   actor_1_name   46294 non-null  object\n",
      " 4   actor_2_name   44984 non-null  object\n",
      " 5   actor_3_name   44033 non-null  object\n",
      "dtypes: object(6)\n",
      "memory usage: 2.2+ MB\n"
     ]
    }
   ],
   "source": [
    "df.info()"
   ]
  },
  {
   "cell_type": "markdown",
   "metadata": {},
   "source": [
    "Fill missing values as Unknown."
   ]
  },
  {
   "cell_type": "code",
   "execution_count": 49,
   "metadata": {},
   "outputs": [],
   "source": [
    "df['movie_title'].fillna('unknown',inplace=True)\n",
    "df['genres'].fillna('unknown',inplace=True)\n",
    "df['director_name'].fillna('unknown',inplace=True)\n",
    "df['actor_1_name'].fillna('unknown',inplace=True)\n",
    "df['actor_2_name'].fillna('unknown',inplace=True)\n",
    "df['actor_3_name'].fillna('unknown',inplace=True)\n"
   ]
  },
  {
   "cell_type": "markdown",
   "metadata": {},
   "source": [
    "New Feature: combine some features together to hold more context. "
   ]
  },
  {
   "cell_type": "code",
   "execution_count": 50,
   "metadata": {},
   "outputs": [],
   "source": [
    "df['all_info'] = df['actor_1_name'] + ' ' + df['actor_2_name'] + ' '+ df['actor_3_name'] + ' '+ df['director_name'] +' ' + df['genres']"
   ]
  },
  {
   "cell_type": "markdown",
   "metadata": {},
   "source": [
    "Check for null entries"
   ]
  },
  {
   "cell_type": "code",
   "execution_count": 51,
   "metadata": {},
   "outputs": [
    {
     "data": {
      "text/plain": [
       "movie_title      0\n",
       "genres           0\n",
       "director_name    0\n",
       "actor_1_name     0\n",
       "actor_2_name     0\n",
       "actor_3_name     0\n",
       "all_info         0\n",
       "dtype: int64"
      ]
     },
     "execution_count": 51,
     "metadata": {},
     "output_type": "execute_result"
    }
   ],
   "source": [
    "df.isna().sum()"
   ]
  },
  {
   "cell_type": "code",
   "execution_count": 52,
   "metadata": {},
   "outputs": [
    {
     "data": {
      "text/plain": [
       "48601"
      ]
     },
     "execution_count": 52,
     "metadata": {},
     "output_type": "execute_result"
    }
   ],
   "source": [
    "len(df)"
   ]
  },
  {
   "cell_type": "code",
   "execution_count": 53,
   "metadata": {},
   "outputs": [],
   "source": [
    "df.to_csv('../data/data.csv',index=False)"
   ]
  }
 ],
 "metadata": {
  "kernelspec": {
   "display_name": "Python 3",
   "language": "python",
   "name": "python3"
  },
  "language_info": {
   "codemirror_mode": {
    "name": "ipython",
    "version": 3
   },
   "file_extension": ".py",
   "mimetype": "text/x-python",
   "name": "python",
   "nbconvert_exporter": "python",
   "pygments_lexer": "ipython3",
   "version": "3.8.18"
  }
 },
 "nbformat": 4,
 "nbformat_minor": 2
}
